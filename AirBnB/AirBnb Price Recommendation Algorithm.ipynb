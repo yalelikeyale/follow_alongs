{
 "cells": [
  {
   "cell_type": "code",
   "execution_count": 1,
   "metadata": {
    "collapsed": true
   },
   "outputs": [],
   "source": [
    "import pandas as pd\n",
    "import numpy as np\n",
    "from scipy import stats as st \n",
    "from matplotlib import pyplot as plt\n",
    "from matplotlib.ticker import FuncFormatter\n",
    "%matplotlib inline"
   ]
  },
  {
   "cell_type": "code",
   "execution_count": 2,
   "metadata": {
    "collapsed": true
   },
   "outputs": [],
   "source": [
    "df = pd.read_csv('data/listings.csv')"
   ]
  },
  {
   "cell_type": "code",
   "execution_count": 5,
   "metadata": {
    "collapsed": true
   },
   "outputs": [],
   "source": [
    "cols = [\"host_response_rate\", \"host_acceptance_rate\", \"host_listings_count\", \"latitude\", \"longitude\", \"city\", \"zipcode\", \"state\", \"accommodates\", \"room_type\", \"bedrooms\", \"bathrooms\", \"beds\", \"price\", \"cleaning_fee\", \"security_deposit\", \"minimum_nights\", \"maximum_nights\", \"number_of_reviews\"]"
   ]
  },
  {
   "cell_type": "code",
   "execution_count": 6,
   "metadata": {
    "collapsed": true
   },
   "outputs": [],
   "source": [
    "bnb = df[cols]"
   ]
  },
  {
   "cell_type": "code",
   "execution_count": 7,
   "metadata": {
    "collapsed": false
   },
   "outputs": [
    {
     "data": {
      "text/html": [
       "<div>\n",
       "<style>\n",
       "    .dataframe thead tr:only-child th {\n",
       "        text-align: right;\n",
       "    }\n",
       "\n",
       "    .dataframe thead th {\n",
       "        text-align: left;\n",
       "    }\n",
       "\n",
       "    .dataframe tbody tr th {\n",
       "        vertical-align: top;\n",
       "    }\n",
       "</style>\n",
       "<table border=\"1\" class=\"dataframe\">\n",
       "  <thead>\n",
       "    <tr style=\"text-align: right;\">\n",
       "      <th></th>\n",
       "      <th>host_response_rate</th>\n",
       "      <th>host_acceptance_rate</th>\n",
       "      <th>host_listings_count</th>\n",
       "      <th>latitude</th>\n",
       "      <th>longitude</th>\n",
       "      <th>city</th>\n",
       "      <th>zipcode</th>\n",
       "      <th>state</th>\n",
       "      <th>accommodates</th>\n",
       "      <th>room_type</th>\n",
       "      <th>bedrooms</th>\n",
       "      <th>bathrooms</th>\n",
       "      <th>beds</th>\n",
       "      <th>price</th>\n",
       "      <th>cleaning_fee</th>\n",
       "      <th>security_deposit</th>\n",
       "      <th>minimum_nights</th>\n",
       "      <th>maximum_nights</th>\n",
       "      <th>number_of_reviews</th>\n",
       "    </tr>\n",
       "  </thead>\n",
       "  <tbody>\n",
       "    <tr>\n",
       "      <th>0</th>\n",
       "      <td>92%</td>\n",
       "      <td>91%</td>\n",
       "      <td>26</td>\n",
       "      <td>38.890046</td>\n",
       "      <td>-77.002808</td>\n",
       "      <td>Washington</td>\n",
       "      <td>20003</td>\n",
       "      <td>DC</td>\n",
       "      <td>4</td>\n",
       "      <td>Entire home/apt</td>\n",
       "      <td>1.0</td>\n",
       "      <td>1.0</td>\n",
       "      <td>2.0</td>\n",
       "      <td>$160.00</td>\n",
       "      <td>$115.00</td>\n",
       "      <td>$100.00</td>\n",
       "      <td>1</td>\n",
       "      <td>1125</td>\n",
       "      <td>0</td>\n",
       "    </tr>\n",
       "    <tr>\n",
       "      <th>1</th>\n",
       "      <td>90%</td>\n",
       "      <td>100%</td>\n",
       "      <td>1</td>\n",
       "      <td>38.880413</td>\n",
       "      <td>-76.990485</td>\n",
       "      <td>Washington</td>\n",
       "      <td>20003</td>\n",
       "      <td>DC</td>\n",
       "      <td>6</td>\n",
       "      <td>Entire home/apt</td>\n",
       "      <td>3.0</td>\n",
       "      <td>3.0</td>\n",
       "      <td>3.0</td>\n",
       "      <td>$350.00</td>\n",
       "      <td>$100.00</td>\n",
       "      <td>NaN</td>\n",
       "      <td>2</td>\n",
       "      <td>30</td>\n",
       "      <td>65</td>\n",
       "    </tr>\n",
       "    <tr>\n",
       "      <th>2</th>\n",
       "      <td>90%</td>\n",
       "      <td>100%</td>\n",
       "      <td>2</td>\n",
       "      <td>38.955291</td>\n",
       "      <td>-76.986006</td>\n",
       "      <td>Hyattsville</td>\n",
       "      <td>20782</td>\n",
       "      <td>MD</td>\n",
       "      <td>1</td>\n",
       "      <td>Private room</td>\n",
       "      <td>1.0</td>\n",
       "      <td>2.0</td>\n",
       "      <td>1.0</td>\n",
       "      <td>$50.00</td>\n",
       "      <td>NaN</td>\n",
       "      <td>NaN</td>\n",
       "      <td>2</td>\n",
       "      <td>1125</td>\n",
       "      <td>1</td>\n",
       "    </tr>\n",
       "    <tr>\n",
       "      <th>3</th>\n",
       "      <td>100%</td>\n",
       "      <td>NaN</td>\n",
       "      <td>1</td>\n",
       "      <td>38.872134</td>\n",
       "      <td>-77.019639</td>\n",
       "      <td>Washington</td>\n",
       "      <td>20024</td>\n",
       "      <td>DC</td>\n",
       "      <td>2</td>\n",
       "      <td>Private room</td>\n",
       "      <td>1.0</td>\n",
       "      <td>1.0</td>\n",
       "      <td>1.0</td>\n",
       "      <td>$95.00</td>\n",
       "      <td>NaN</td>\n",
       "      <td>NaN</td>\n",
       "      <td>1</td>\n",
       "      <td>1125</td>\n",
       "      <td>0</td>\n",
       "    </tr>\n",
       "    <tr>\n",
       "      <th>4</th>\n",
       "      <td>92%</td>\n",
       "      <td>67%</td>\n",
       "      <td>1</td>\n",
       "      <td>38.996382</td>\n",
       "      <td>-77.041541</td>\n",
       "      <td>Silver Spring</td>\n",
       "      <td>20910</td>\n",
       "      <td>MD</td>\n",
       "      <td>4</td>\n",
       "      <td>Entire home/apt</td>\n",
       "      <td>1.0</td>\n",
       "      <td>1.0</td>\n",
       "      <td>1.0</td>\n",
       "      <td>$50.00</td>\n",
       "      <td>$15.00</td>\n",
       "      <td>$450.00</td>\n",
       "      <td>7</td>\n",
       "      <td>1125</td>\n",
       "      <td>0</td>\n",
       "    </tr>\n",
       "  </tbody>\n",
       "</table>\n",
       "</div>"
      ],
      "text/plain": [
       "  host_response_rate host_acceptance_rate  host_listings_count   latitude  \\\n",
       "0                92%                  91%                   26  38.890046   \n",
       "1                90%                 100%                    1  38.880413   \n",
       "2                90%                 100%                    2  38.955291   \n",
       "3               100%                  NaN                    1  38.872134   \n",
       "4                92%                  67%                    1  38.996382   \n",
       "\n",
       "   longitude           city zipcode state  accommodates        room_type  \\\n",
       "0 -77.002808     Washington   20003    DC             4  Entire home/apt   \n",
       "1 -76.990485     Washington   20003    DC             6  Entire home/apt   \n",
       "2 -76.986006    Hyattsville   20782    MD             1     Private room   \n",
       "3 -77.019639     Washington   20024    DC             2     Private room   \n",
       "4 -77.041541  Silver Spring   20910    MD             4  Entire home/apt   \n",
       "\n",
       "   bedrooms  bathrooms  beds    price cleaning_fee security_deposit  \\\n",
       "0       1.0        1.0   2.0  $160.00      $115.00          $100.00   \n",
       "1       3.0        3.0   3.0  $350.00      $100.00              NaN   \n",
       "2       1.0        2.0   1.0   $50.00          NaN              NaN   \n",
       "3       1.0        1.0   1.0   $95.00          NaN              NaN   \n",
       "4       1.0        1.0   1.0   $50.00       $15.00          $450.00   \n",
       "\n",
       "   minimum_nights  maximum_nights  number_of_reviews  \n",
       "0               1            1125                  0  \n",
       "1               2              30                 65  \n",
       "2               2            1125                  1  \n",
       "3               1            1125                  0  \n",
       "4               7            1125                  0  "
      ]
     },
     "execution_count": 7,
     "metadata": {},
     "output_type": "execute_result"
    }
   ],
   "source": [
    "bnb.head()"
   ]
  },
  {
   "cell_type": "code",
   "execution_count": null,
   "metadata": {
    "collapsed": true
   },
   "outputs": [],
   "source": []
  }
 ],
 "metadata": {
  "kernelspec": {
   "display_name": "Python 2",
   "language": "python",
   "name": "python2"
  },
  "language_info": {
   "codemirror_mode": {
    "name": "ipython",
    "version": 2
   },
   "file_extension": ".py",
   "mimetype": "text/x-python",
   "name": "python",
   "nbconvert_exporter": "python",
   "pygments_lexer": "ipython2",
   "version": "2.7.11"
  }
 },
 "nbformat": 4,
 "nbformat_minor": 0
}
